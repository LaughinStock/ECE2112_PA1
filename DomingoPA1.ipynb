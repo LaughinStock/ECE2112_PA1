{
 "cells": [
  {
   "cell_type": "markdown",
   "id": "66e53b17-9768-41ea-88cb-2dd271c7e6d3",
   "metadata": {},
   "source": [
    "# PA1.1: Alphabet Soup Problem"
   ]
  },
  {
   "cell_type": "code",
   "execution_count": null,
   "id": "e1277a16-33c3-42f0-a608-a1153e0ac867",
   "metadata": {},
   "outputs": [],
   "source": [
    "def alphabet_string(input_string):\n",
    "    sorted_char = sorted(input_string)\n",
    "    sorted_string = ''.join(sorted_char)\n",
    "    return sorted_string\n",
    "\n",
    "input_string = input(\"Enter a string of characters: \")\n",
    "\n",
    "sorted_string = alphabet_string(input_string)\n",
    "\n",
    "print(\"String of characters in alphabetical order:\", sorted_string)\n"
   ]
  },
  {
   "cell_type": "markdown",
   "id": "fc2431bc-5836-4c76-921f-ad6fa7d280f9",
   "metadata": {},
   "source": [
    "# PA1.2: Emoticon Problem "
   ]
  },
  {
   "cell_type": "code",
   "execution_count": 22,
   "id": "a3f70689-d1d7-4333-835b-b5c4ed004f6c",
   "metadata": {},
   "outputs": [
    {
     "name": "stdin",
     "output_type": "stream",
     "text": [
      "Enter a sentence:  I hate you mad\n"
     ]
    },
    {
     "name": "stdout",
     "output_type": "stream",
     "text": [
      "Sentence with emoticons:  I hate you >:(\n"
     ]
    }
   ],
   "source": [
    "def rep_emoticon(sentence):\n",
    "    emoticon_dict = {\n",
    "        \"smile\": \":)\",\n",
    "        \"grin\": \":D\",\n",
    "        \"sad\": \":((\",\n",
    "        \"mad\": \">:(\",\n",
    "    }\n",
    "    \n",
    "    words = sentence.split()\n",
    "\n",
    "    replaced_sentence = ' '.join([emoticon_dict.get(word, word) for word in words])\n",
    "\n",
    "    return replaced_sentence\n",
    "\n",
    "input_sentence = input(\"Enter a sentence: \")\n",
    "result_sentence = rep_emoticon(input_sentence)\n",
    "\n",
    "print(\"Sentence with emoticons: \", result_sentence)"
   ]
  },
  {
   "cell_type": "markdown",
   "id": "4e110b29-e77f-4e8f-8c31-5e510b44fed5",
   "metadata": {},
   "source": [
    "# PA1.2: Emoticon Problem (Edited)"
   ]
  },
  {
   "cell_type": "code",
   "execution_count": 20,
   "id": "85391568-95e8-4513-985b-9fd347b66d0f",
   "metadata": {},
   "outputs": [
    {
     "name": "stdin",
     "output_type": "stream",
     "text": [
      "Enter a sentence:  I love you smile\n"
     ]
    },
    {
     "name": "stdout",
     "output_type": "stream",
     "text": [
      "Sentence with emoticons:  I love you ( ˶ˆᗜˆ˵ )\n"
     ]
    }
   ],
   "source": [
    "def rep_emoticon(sentence):\n",
    "    emoticon_dict = {\n",
    "        \"smile\": \"( ˶ˆᗜˆ˵ )\",\n",
    "        \"grin\": \"(~‾‾∇‾‾  )~\",\n",
    "        \"sad\": \"૮(˶ㅠ︿ㅠ)ა\",\n",
    "        \"mad\": \"<( •̀ᴖ•́)>\",\n",
    "        \"lmao\": \"(๑≧▽≦)\",\n",
    "        \"mischief\" : \"( ͡° ͜ʖ ͡°)\",\n",
    "    }\n",
    "    \n",
    "    words = sentence.split()\n",
    "\n",
    "    replaced_sentence = ' '.join([emoticon_dict.get(word, word) for word in words])\n",
    "\n",
    "    return replaced_sentence\n",
    "\n",
    "input_sentence = input(\"Enter a sentence: \")\n",
    "result_sentence = rep_emoticon(input_sentence)\n",
    "\n",
    "print(\"Sentence with emoticons: \", result_sentence)"
   ]
  },
  {
   "cell_type": "markdown",
   "id": "905a9a4f-128b-4028-8de0-56209e7a420c",
   "metadata": {},
   "source": [
    "# PA1.3: Unpacking List problem"
   ]
  },
  {
   "cell_type": "code",
   "execution_count": 26,
   "id": "b5914973-ea19-4727-af02-9b7c66303dfd",
   "metadata": {},
   "outputs": [
    {
     "name": "stdout",
     "output_type": "stream",
     "text": [
      "First:  1\n",
      "Middle:  [2, 3, 4, 5]\n",
      "Last:  6\n"
     ]
    }
   ],
   "source": [
    "writeyourcodehere = [1,2,3,4,5,6]\n",
    "\n",
    "first, *middle, last = writeyourcodehere\n",
    "\n",
    "print(\"First: \", first)\n",
    "print(\"Middle: \", middle)\n",
    "print(\"Last: \", last)"
   ]
  },
  {
   "cell_type": "code",
   "execution_count": null,
   "id": "8c28e90c-4998-46e9-bb9a-2d3e638cfc9a",
   "metadata": {},
   "outputs": [],
   "source": []
  }
 ],
 "metadata": {
  "kernelspec": {
   "display_name": "Python 3 (ipykernel)",
   "language": "python",
   "name": "python3"
  },
  "language_info": {
   "codemirror_mode": {
    "name": "ipython",
    "version": 3
   },
   "file_extension": ".py",
   "mimetype": "text/x-python",
   "name": "python",
   "nbconvert_exporter": "python",
   "pygments_lexer": "ipython3",
   "version": "3.12.4"
  }
 },
 "nbformat": 4,
 "nbformat_minor": 5
}
